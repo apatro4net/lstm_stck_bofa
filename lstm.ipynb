{
  "nbformat": 4,
  "nbformat_minor": 0,
  "metadata": {
    "colab": {
      "name": "Untitled10.ipynb",
      "provenance": [],
      "collapsed_sections": []
    },
    "kernelspec": {
      "name": "python3",
      "display_name": "Python 3"
    },
    "language_info": {
      "name": "python"
    },
    "accelerator": "GPU"
  },
  "cells": [
    {
      "cell_type": "code",
      "metadata": {
        "id": "ZVr7tVEVl_CH",
        "colab": {
          "base_uri": "https://localhost:8080/"
        },
        "outputId": "6105bd88-4f95-4af0-8766-fd597978c2ca"
      },
      "source": [
        "pip install investpy  #install investpy"
      ],
      "execution_count": 100,
      "outputs": [
        {
          "output_type": "stream",
          "text": [
            "Requirement already satisfied: investpy in /usr/local/lib/python3.7/dist-packages (1.0.6)\n",
            "Requirement already satisfied: numpy>=1.17.2 in /usr/local/lib/python3.7/dist-packages (from investpy) (1.19.5)\n",
            "Requirement already satisfied: lxml>=4.4.1 in /usr/local/lib/python3.7/dist-packages (from investpy) (4.6.3)\n",
            "Requirement already satisfied: requests>=2.22.0 in /usr/local/lib/python3.7/dist-packages (from investpy) (2.23.0)\n",
            "Requirement already satisfied: pytz>=2019.3 in /usr/local/lib/python3.7/dist-packages (from investpy) (2021.1)\n",
            "Requirement already satisfied: Unidecode>=1.1.1 in /usr/local/lib/python3.7/dist-packages (from investpy) (1.2.0)\n",
            "Requirement already satisfied: pandas>=0.25.1 in /usr/local/lib/python3.7/dist-packages (from investpy) (1.1.5)\n",
            "Requirement already satisfied: setuptools>=41.2.0 in /usr/local/lib/python3.7/dist-packages (from investpy) (56.1.0)\n",
            "Requirement already satisfied: certifi>=2017.4.17 in /usr/local/lib/python3.7/dist-packages (from requests>=2.22.0->investpy) (2020.12.5)\n",
            "Requirement already satisfied: chardet<4,>=3.0.2 in /usr/local/lib/python3.7/dist-packages (from requests>=2.22.0->investpy) (3.0.4)\n",
            "Requirement already satisfied: idna<3,>=2.5 in /usr/local/lib/python3.7/dist-packages (from requests>=2.22.0->investpy) (2.10)\n",
            "Requirement already satisfied: urllib3!=1.25.0,!=1.25.1,<1.26,>=1.21.1 in /usr/local/lib/python3.7/dist-packages (from requests>=2.22.0->investpy) (1.24.3)\n",
            "Requirement already satisfied: python-dateutil>=2.7.3 in /usr/local/lib/python3.7/dist-packages (from pandas>=0.25.1->investpy) (2.8.1)\n",
            "Requirement already satisfied: six>=1.5 in /usr/local/lib/python3.7/dist-packages (from python-dateutil>=2.7.3->pandas>=0.25.1->investpy) (1.15.0)\n"
          ],
          "name": "stdout"
        }
      ]
    },
    {
      "cell_type": "code",
      "metadata": {
        "id": "1guNHXEGmVQS"
      },
      "source": [
        "import investpy as inp\n",
        "import pandas as pd\n",
        "res = inp.search_quotes(text='bank of america',\n",
        "                      products=['stocks'],\n",
        "                      countries=['united states'],\n",
        "                      n_results=10\n",
        "                      )"
      ],
      "execution_count": 101,
      "outputs": []
    },
    {
      "cell_type": "code",
      "metadata": {
        "colab": {
          "base_uri": "https://localhost:8080/"
        },
        "id": "bIdA3ouOnM-E",
        "outputId": "8cc0f62b-c917-49f0-b9ab-88657206ee81"
      },
      "source": [
        "for stk in res[:1]:\n",
        "  \n",
        "  stk.retrieve_historical_data(from_date='01/01/2010', to_date='31/12/2020')\n",
        "  print(stk.data)\n",
        "  df = pd.DataFrame(stk.data)\n",
        "  "
      ],
      "execution_count": 102,
      "outputs": [
        {
          "output_type": "stream",
          "text": [
            "             Open   High    Low  Close     Volume\n",
            "Date                                             \n",
            "2010-01-04  15.24  15.75  15.12  15.69  180845104\n",
            "2010-01-05  15.74  16.21  15.70  16.20  209521216\n",
            "2010-01-06  16.21  16.54  16.03  16.39  205257888\n",
            "2010-01-07  16.68  17.18  16.51  16.93  320868352\n",
            "2010-01-08  16.98  17.10  16.63  16.78  220104608\n",
            "...           ...    ...    ...    ...        ...\n",
            "2020-12-24  30.27  30.27  29.74  29.96   22632272\n",
            "2020-12-28  30.17  30.54  29.99  30.13   32861178\n",
            "2020-12-29  30.12  30.25  29.93  30.01   33291878\n",
            "2020-12-30  30.00  30.22  29.94  29.98   26370148\n",
            "2020-12-31  30.01  30.39  29.90  30.31   28716038\n",
            "\n",
            "[2769 rows x 5 columns]\n"
          ],
          "name": "stdout"
        }
      ]
    },
    {
      "cell_type": "code",
      "metadata": {
        "colab": {
          "base_uri": "https://localhost:8080/",
          "height": 450
        },
        "id": "hD0-Udv-otE1",
        "outputId": "ffa54ee5-baf9-4772-bb1e-ebb9545a5e2c"
      },
      "source": [
        "df_i = df.index\n",
        "df_close = df[['Close']]\n",
        "df_close\n"
      ],
      "execution_count": 103,
      "outputs": [
        {
          "output_type": "execute_result",
          "data": {
            "text/html": [
              "<div>\n",
              "<style scoped>\n",
              "    .dataframe tbody tr th:only-of-type {\n",
              "        vertical-align: middle;\n",
              "    }\n",
              "\n",
              "    .dataframe tbody tr th {\n",
              "        vertical-align: top;\n",
              "    }\n",
              "\n",
              "    .dataframe thead th {\n",
              "        text-align: right;\n",
              "    }\n",
              "</style>\n",
              "<table border=\"1\" class=\"dataframe\">\n",
              "  <thead>\n",
              "    <tr style=\"text-align: right;\">\n",
              "      <th></th>\n",
              "      <th>Close</th>\n",
              "    </tr>\n",
              "    <tr>\n",
              "      <th>Date</th>\n",
              "      <th></th>\n",
              "    </tr>\n",
              "  </thead>\n",
              "  <tbody>\n",
              "    <tr>\n",
              "      <th>2010-01-04</th>\n",
              "      <td>15.69</td>\n",
              "    </tr>\n",
              "    <tr>\n",
              "      <th>2010-01-05</th>\n",
              "      <td>16.20</td>\n",
              "    </tr>\n",
              "    <tr>\n",
              "      <th>2010-01-06</th>\n",
              "      <td>16.39</td>\n",
              "    </tr>\n",
              "    <tr>\n",
              "      <th>2010-01-07</th>\n",
              "      <td>16.93</td>\n",
              "    </tr>\n",
              "    <tr>\n",
              "      <th>2010-01-08</th>\n",
              "      <td>16.78</td>\n",
              "    </tr>\n",
              "    <tr>\n",
              "      <th>...</th>\n",
              "      <td>...</td>\n",
              "    </tr>\n",
              "    <tr>\n",
              "      <th>2020-12-24</th>\n",
              "      <td>29.96</td>\n",
              "    </tr>\n",
              "    <tr>\n",
              "      <th>2020-12-28</th>\n",
              "      <td>30.13</td>\n",
              "    </tr>\n",
              "    <tr>\n",
              "      <th>2020-12-29</th>\n",
              "      <td>30.01</td>\n",
              "    </tr>\n",
              "    <tr>\n",
              "      <th>2020-12-30</th>\n",
              "      <td>29.98</td>\n",
              "    </tr>\n",
              "    <tr>\n",
              "      <th>2020-12-31</th>\n",
              "      <td>30.31</td>\n",
              "    </tr>\n",
              "  </tbody>\n",
              "</table>\n",
              "<p>2769 rows × 1 columns</p>\n",
              "</div>"
            ],
            "text/plain": [
              "            Close\n",
              "Date             \n",
              "2010-01-04  15.69\n",
              "2010-01-05  16.20\n",
              "2010-01-06  16.39\n",
              "2010-01-07  16.93\n",
              "2010-01-08  16.78\n",
              "...           ...\n",
              "2020-12-24  29.96\n",
              "2020-12-28  30.13\n",
              "2020-12-29  30.01\n",
              "2020-12-30  29.98\n",
              "2020-12-31  30.31\n",
              "\n",
              "[2769 rows x 1 columns]"
            ]
          },
          "metadata": {
            "tags": []
          },
          "execution_count": 103
        }
      ]
    },
    {
      "cell_type": "code",
      "metadata": {
        "colab": {
          "base_uri": "https://localhost:8080/",
          "height": 312
        },
        "id": "Od-5gd5Xr6DG",
        "outputId": "08a40838-1d44-45bc-8408-f2b783f64d41"
      },
      "source": [
        "import matplotlib.pyplot as plt\n",
        "plt.figure(figsize = (20, 4))\n",
        "plt.plot(df_close )\n",
        "plt.xlabel(\"Date\")\n",
        "plt.ylabel(\"Stock price close\")\n",
        "plt.title(\"BofA stock price \")"
      ],
      "execution_count": 104,
      "outputs": [
        {
          "output_type": "execute_result",
          "data": {
            "text/plain": [
              "Text(0.5, 1.0, 'BofA stock price ')"
            ]
          },
          "metadata": {
            "tags": []
          },
          "execution_count": 104
        },
        {
          "output_type": "display_data",
          "data": {
            "image/png": "[encoded data removed]",
            "text/plain": [
              "<Figure size 1440x288 with 1 Axes>"
            ]
          },
          "metadata": {
            "tags": [],
            "needs_background": "light"
          }
        }
      ]
    },
    {
      "cell_type": "code",
      "metadata": {
        "id": "t69qu4UvZG0P",
        "colab": {
          "base_uri": "https://localhost:8080/"
        },
        "outputId": "7511606d-6612-4a07-dc18-fff53d02f605"
      },
      "source": [
        "from sklearn.preprocessing import MinMaxScaler\n",
        "scaler = MinMaxScaler()\n",
        "df_total = scaler.fit_transform(df_close)\n",
        "df_total"
      ],
      "execution_count": 105,
      "outputs": [
        {
          "output_type": "execute_result",
          "data": {
            "text/plain": [
              "array([[0.34910277],\n",
              "       [0.36574225],\n",
              "       [0.37194127],\n",
              "       ...,\n",
              "       [0.81631321],\n",
              "       [0.81533442],\n",
              "       [0.82610114]])"
            ]
          },
          "metadata": {
            "tags": []
          },
          "execution_count": 105
        }
      ]
    },
    {
      "cell_type": "code",
      "metadata": {
        "colab": {
          "base_uri": "https://localhost:8080/"
        },
        "id": "bXMorIUTZeHW",
        "outputId": "b4b05043-6f20-4172-ac18-5feb79489758"
      },
      "source": [
        "df_train = df_close[:'2019-12-31']\n",
        "df_train.shape[0]\n"
      ],
      "execution_count": 106,
      "outputs": [
        {
          "output_type": "execute_result",
          "data": {
            "text/plain": [
              "2516"
            ]
          },
          "metadata": {
            "tags": []
          },
          "execution_count": 106
        }
      ]
    },
    {
      "cell_type": "code",
      "metadata": {
        "id": "6ShXDhl5jgRe"
      },
      "source": [
        "X_train = []\n",
        "y = []\n",
        "for i in range(60 , df_train.shape[0]):\n",
        "  X_train.append(df_total[i-60:i])\n",
        "  y.append(df_total[i])\n",
        "X_train\n"
      ],
      "execution_count": null,
      "outputs": []
    },
    {
      "cell_type": "code",
      "metadata": {
        "id": "iggE6U0-xS06",
        "colab": {
          "base_uri": "https://localhost:8080/"
        },
        "outputId": "a6025c4d-b473-4617-d9f1-912f19c5008c"
      },
      "source": [
        "import numpy as np\n",
        "X_tr_t = np.array(X_train)\n",
        "Y_tr_t = np.array(y)\n",
        "print(X_tr_t.shape[0])\n",
        "print(X_tr_t.shape[1])\n",
        "X_tr_t = np.reshape(X_tr_t, (X_tr_t.shape[0], X_tr_t.shape[1], 1))\n",
        "Y_tr_t.shape"
      ],
      "execution_count": 108,
      "outputs": [
        {
          "output_type": "stream",
          "text": [
            "2456\n",
            "60\n"
          ],
          "name": "stdout"
        },
        {
          "output_type": "execute_result",
          "data": {
            "text/plain": [
              "(2456, 1)"
            ]
          },
          "metadata": {
            "tags": []
          },
          "execution_count": 108
        }
      ]
    },
    {
      "cell_type": "code",
      "metadata": {
        "colab": {
          "base_uri": "https://localhost:8080/"
        },
        "id": "GTACPTgeJr3X",
        "outputId": "ea68dc53-1bd7-44bf-91ac-be4bddbb0fc8"
      },
      "source": [
        "from keras.models import Sequential\n",
        "from keras.layers import Dense\n",
        "from keras.layers import LSTM\n",
        "from keras.layers import Dropout\n",
        "\n",
        "model = Sequential()\n",
        "model.add(LSTM(300, input_shape=(X_tr_t.shape[1], X_tr_t.shape[2]), return_sequences=True))\n",
        "model.add(Dropout(0.2))\n",
        "model.add(LSTM(300))\n",
        "model.add(Dropout(0.2))\n",
        "model.add(Dense(Y_tr_t.shape[1], activation='relu'))\n",
        "model.compile(loss='mean_squared_error', optimizer='adam')\n",
        "model.fit(X_tr_t, Y_tr_t, epochs=200, batch_size=30)"
      ],
      "execution_count": 109,
      "outputs": [
        {
          "output_type": "stream",
          "text": [
            "Epoch 1/200\n",
            "82/82 [==============================] - 4s 12ms/step - loss: 0.0325\n",
            "Epoch 2/200\n",
            "82/82 [==============================] - 1s 10ms/step - loss: 9.5292e-04\n",
            "Epoch 3/200\n",
            "82/82 [==============================] - 1s 10ms/step - loss: 7.7071e-04\n",
            "Epoch 4/200\n",
            "82/82 [==============================] - 1s 10ms/step - loss: 0.0011\n",
            "Epoch 5/200\n",
            "82/82 [==============================] - 1s 10ms/step - loss: 8.5531e-04\n",
            "Epoch 6/200\n",
            "82/82 [==============================] - 1s 10ms/step - loss: 8.5717e-04\n",
            "Epoch 7/200\n",
            "82/82 [==============================] - 1s 10ms/step - loss: 7.5667e-04\n",
            "Epoch 8/200\n",
            "82/82 [==============================] - 1s 10ms/step - loss: 7.8890e-04\n",
            "Epoch 9/200\n",
            "82/82 [==============================] - 1s 10ms/step - loss: 7.2053e-04\n",
            "Epoch 10/200\n",
            "82/82 [==============================] - 1s 11ms/step - loss: 8.1558e-04\n",
            "Epoch 11/200\n",
            "82/82 [==============================] - 1s 10ms/step - loss: 6.5437e-04\n",
            "Epoch 12/200\n",
            "82/82 [==============================] - 1s 10ms/step - loss: 6.7756e-04\n",
            "Epoch 13/200\n",
            "82/82 [==============================] - 1s 10ms/step - loss: 6.9378e-04\n",
            "Epoch 14/200\n",
            "82/82 [==============================] - 1s 10ms/step - loss: 6.3349e-04\n",
            "Epoch 15/200\n",
            "82/82 [==============================] - 1s 10ms/step - loss: 8.2969e-04\n",
            "Epoch 16/200\n",
            "82/82 [==============================] - 1s 10ms/step - loss: 6.6215e-04\n",
            "Epoch 17/200\n",
            "82/82 [==============================] - 1s 10ms/step - loss: 6.6290e-04\n",
            "Epoch 18/200\n",
            "82/82 [==============================] - 1s 10ms/step - loss: 6.6665e-04\n",
            "Epoch 19/200\n",
            "82/82 [==============================] - 1s 10ms/step - loss: 6.4126e-04\n",
            "Epoch 20/200\n",
            "82/82 [==============================] - 1s 10ms/step - loss: 6.4446e-04\n",
            "Epoch 21/200\n",
            "82/82 [==============================] - 1s 10ms/step - loss: 6.1889e-04\n",
            "Epoch 22/200\n",
            "82/82 [==============================] - 1s 10ms/step - loss: 6.1862e-04\n",
            "Epoch 23/200\n",
            "82/82 [==============================] - 1s 10ms/step - loss: 5.5847e-04\n",
            "Epoch 24/200\n",
            "82/82 [==============================] - 1s 10ms/step - loss: 5.0137e-04\n",
            "Epoch 25/200\n",
            "82/82 [==============================] - 1s 10ms/step - loss: 6.7034e-04\n",
            "Epoch 26/200\n",
            "82/82 [==============================] - 1s 10ms/step - loss: 6.2281e-04\n",
            "Epoch 27/200\n",
            "82/82 [==============================] - 1s 10ms/step - loss: 4.8346e-04\n",
            "Epoch 28/200\n",
            "82/82 [==============================] - 1s 10ms/step - loss: 5.5407e-04\n",
            "Epoch 29/200\n",
            "82/82 [==============================] - 1s 10ms/step - loss: 5.1066e-04\n",
            "Epoch 30/200\n",
            "82/82 [==============================] - 1s 10ms/step - loss: 5.0752e-04\n",
            "Epoch 31/200\n",
            "82/82 [==============================] - 1s 10ms/step - loss: 5.2419e-04\n",
            "Epoch 32/200\n",
            "82/82 [==============================] - 1s 10ms/step - loss: 4.3176e-04\n",
            "Epoch 33/200\n",
            "82/82 [==============================] - 1s 10ms/step - loss: 6.3594e-04\n",
            "Epoch 34/200\n",
            "82/82 [==============================] - 1s 10ms/step - loss: 4.4858e-04\n",
            "Epoch 35/200\n",
            "82/82 [==============================] - 1s 10ms/step - loss: 4.8931e-04\n",
            "Epoch 36/200\n",
            "82/82 [==============================] - 1s 10ms/step - loss: 5.6865e-04\n",
            "Epoch 37/200\n",
            "82/82 [==============================] - 1s 10ms/step - loss: 4.6214e-04\n",
            "Epoch 38/200\n",
            "82/82 [==============================] - 1s 10ms/step - loss: 4.3570e-04\n",
            "Epoch 39/200\n",
            "82/82 [==============================] - 1s 10ms/step - loss: 4.9492e-04\n",
            "Epoch 40/200\n",
            "82/82 [==============================] - 1s 10ms/step - loss: 4.5882e-04\n",
            "Epoch 41/200\n",
            "82/82 [==============================] - 1s 10ms/step - loss: 5.3449e-04\n",
            "Epoch 42/200\n",
            "82/82 [==============================] - 1s 10ms/step - loss: 4.0613e-04\n",
            "Epoch 43/200\n",
            "82/82 [==============================] - 1s 10ms/step - loss: 5.2672e-04\n",
            "Epoch 44/200\n",
            "82/82 [==============================] - 1s 10ms/step - loss: 4.3139e-04\n",
            "Epoch 45/200\n",
            "82/82 [==============================] - 1s 10ms/step - loss: 3.9888e-04\n",
            "Epoch 46/200\n",
            "82/82 [==============================] - 1s 10ms/step - loss: 4.4675e-04\n",
            "Epoch 47/200\n",
            "82/82 [==============================] - 1s 10ms/step - loss: 4.5802e-04\n",
            "Epoch 48/200\n",
            "82/82 [==============================] - 1s 10ms/step - loss: 4.9610e-04\n",
            "Epoch 49/200\n",
            "82/82 [==============================] - 1s 10ms/step - loss: 3.9070e-04\n",
            "Epoch 50/200\n",
            "82/82 [==============================] - 1s 10ms/step - loss: 4.3848e-04\n",
            "Epoch 51/200\n",
            "82/82 [==============================] - 1s 10ms/step - loss: 4.2956e-04\n",
            "Epoch 52/200\n",
            "82/82 [==============================] - 1s 10ms/step - loss: 4.3225e-04\n",
            "Epoch 53/200\n",
            "82/82 [==============================] - 1s 10ms/step - loss: 3.5184e-04\n",
            "Epoch 54/200\n",
            "82/82 [==============================] - 1s 11ms/step - loss: 3.9175e-04\n",
            "Epoch 55/200\n",
            "82/82 [==============================] - 1s 10ms/step - loss: 3.7511e-04\n",
            "Epoch 56/200\n",
            "82/82 [==============================] - 1s 10ms/step - loss: 3.9296e-04\n",
            "Epoch 57/200\n",
            "82/82 [==============================] - 1s 10ms/step - loss: 3.5575e-04\n",
            "Epoch 58/200\n",
            "82/82 [==============================] - 1s 10ms/step - loss: 3.6697e-04\n",
            "Epoch 59/200\n",
            "82/82 [==============================] - 1s 10ms/step - loss: 3.9469e-04\n",
            "Epoch 60/200\n",
            "82/82 [==============================] - 1s 10ms/step - loss: 4.3931e-04\n",
            "Epoch 61/200\n",
            "82/82 [==============================] - 1s 11ms/step - loss: 4.1060e-04\n",
            "Epoch 62/200\n",
            "82/82 [==============================] - 1s 11ms/step - loss: 4.3016e-04\n",
            "Epoch 63/200\n",
            "82/82 [==============================] - 1s 10ms/step - loss: 3.9410e-04\n",
            "Epoch 64/200\n",
            "82/82 [==============================] - 1s 11ms/step - loss: 3.7060e-04\n",
            "Epoch 65/200\n",
            "82/82 [==============================] - 1s 11ms/step - loss: 3.8071e-04\n",
            "Epoch 66/200\n",
            "82/82 [==============================] - 1s 10ms/step - loss: 3.3945e-04\n",
            "Epoch 67/200\n",
            "82/82 [==============================] - 1s 10ms/step - loss: 3.4059e-04\n",
            "Epoch 68/200\n",
            "82/82 [==============================] - 1s 10ms/step - loss: 4.5144e-04\n",
            "Epoch 69/200\n",
            "82/82 [==============================] - 1s 10ms/step - loss: 3.5196e-04\n",
            "Epoch 70/200\n",
            "82/82 [==============================] - 1s 10ms/step - loss: 4.8174e-04\n",
            "Epoch 71/200\n",
            "82/82 [==============================] - 1s 10ms/step - loss: 3.4174e-04\n",
            "Epoch 72/200\n",
            "82/82 [==============================] - 1s 10ms/step - loss: 4.0210e-04\n",
            "Epoch 73/200\n",
            "82/82 [==============================] - 1s 11ms/step - loss: 3.5071e-04\n",
            "Epoch 74/200\n",
            "82/82 [==============================] - 1s 10ms/step - loss: 3.7241e-04\n",
            "Epoch 75/200\n",
            "82/82 [==============================] - 1s 10ms/step - loss: 3.6900e-04\n",
            "Epoch 76/200\n",
            "82/82 [==============================] - 1s 10ms/step - loss: 3.0067e-04\n",
            "Epoch 77/200\n",
            "82/82 [==============================] - 1s 10ms/step - loss: 3.3584e-04\n",
            "Epoch 78/200\n",
            "82/82 [==============================] - 1s 10ms/step - loss: 3.2066e-04\n",
            "Epoch 79/200\n",
            "82/82 [==============================] - 1s 10ms/step - loss: 3.4400e-04\n",
            "Epoch 80/200\n",
            "82/82 [==============================] - 1s 10ms/step - loss: 3.4908e-04\n",
            "Epoch 81/200\n",
            "82/82 [==============================] - 1s 11ms/step - loss: 3.4973e-04\n",
            "Epoch 82/200\n",
            "82/82 [==============================] - 1s 11ms/step - loss: 3.4029e-04\n",
            "Epoch 83/200\n",
            "82/82 [==============================] - 1s 10ms/step - loss: 3.4725e-04\n",
            "Epoch 84/200\n",
            "82/82 [==============================] - 1s 11ms/step - loss: 3.2047e-04\n",
            "Epoch 85/200\n",
            "82/82 [==============================] - 1s 10ms/step - loss: 3.5041e-04\n",
            "Epoch 86/200\n",
            "82/82 [==============================] - 1s 10ms/step - loss: 3.3298e-04\n",
            "Epoch 87/200\n",
            "82/82 [==============================] - 1s 10ms/step - loss: 3.3901e-04\n",
            "Epoch 88/200\n",
            "82/82 [==============================] - 1s 10ms/step - loss: 3.1843e-04\n",
            "Epoch 89/200\n",
            "82/82 [==============================] - 1s 10ms/step - loss: 3.8297e-04\n",
            "Epoch 90/200\n",
            "82/82 [==============================] - 1s 10ms/step - loss: 3.2356e-04\n",
            "Epoch 91/200\n",
            "82/82 [==============================] - 1s 10ms/step - loss: 3.6666e-04\n",
            "Epoch 92/200\n",
            "82/82 [==============================] - 1s 10ms/step - loss: 3.0495e-04\n",
            "Epoch 93/200\n",
            "82/82 [==============================] - 1s 10ms/step - loss: 4.3522e-04\n",
            "Epoch 94/200\n",
            "82/82 [==============================] - 1s 11ms/step - loss: 3.3071e-04\n",
            "Epoch 95/200\n",
            "82/82 [==============================] - 1s 10ms/step - loss: 3.3889e-04\n",
            "Epoch 96/200\n",
            "82/82 [==============================] - 1s 10ms/step - loss: 3.0740e-04\n",
            "Epoch 97/200\n",
            "82/82 [==============================] - 1s 10ms/step - loss: 3.0072e-04\n",
            "Epoch 98/200\n",
            "82/82 [==============================] - 1s 10ms/step - loss: 3.2164e-04\n",
            "Epoch 99/200\n",
            "82/82 [==============================] - 1s 10ms/step - loss: 3.3809e-04\n",
            "Epoch 100/200\n",
            "82/82 [==============================] - 1s 10ms/step - loss: 3.3660e-04\n",
            "Epoch 101/200\n",
            "82/82 [==============================] - 1s 11ms/step - loss: 2.9000e-04\n",
            "Epoch 102/200\n",
            "82/82 [==============================] - 1s 11ms/step - loss: 3.3795e-04\n",
            "Epoch 103/200\n",
            "82/82 [==============================] - 1s 11ms/step - loss: 3.1736e-04\n",
            "Epoch 104/200\n",
            "82/82 [==============================] - 1s 11ms/step - loss: 3.1383e-04\n",
            "Epoch 105/200\n",
            "82/82 [==============================] - 1s 11ms/step - loss: 3.3540e-04\n",
            "Epoch 106/200\n",
            "82/82 [==============================] - 1s 11ms/step - loss: 3.6004e-04\n",
            "Epoch 107/200\n",
            "82/82 [==============================] - 1s 11ms/step - loss: 3.1196e-04\n",
            "Epoch 108/200\n",
            "82/82 [==============================] - 1s 11ms/step - loss: 2.9860e-04\n",
            "Epoch 109/200\n",
            "82/82 [==============================] - 1s 10ms/step - loss: 2.9270e-04\n",
            "Epoch 110/200\n",
            "82/82 [==============================] - 1s 10ms/step - loss: 2.7876e-04\n",
            "Epoch 111/200\n",
            "82/82 [==============================] - 1s 10ms/step - loss: 2.8444e-04\n",
            "Epoch 112/200\n",
            "82/82 [==============================] - 1s 10ms/step - loss: 3.4962e-04\n",
            "Epoch 113/200\n",
            "82/82 [==============================] - 1s 10ms/step - loss: 2.7859e-04\n",
            "Epoch 114/200\n",
            "82/82 [==============================] - 1s 11ms/step - loss: 3.2700e-04\n",
            "Epoch 115/200\n",
            "82/82 [==============================] - 1s 11ms/step - loss: 3.2719e-04\n",
            "Epoch 116/200\n",
            "82/82 [==============================] - 1s 11ms/step - loss: 3.1677e-04\n",
            "Epoch 117/200\n",
            "82/82 [==============================] - 1s 11ms/step - loss: 3.5973e-04\n",
            "Epoch 118/200\n",
            "82/82 [==============================] - 1s 11ms/step - loss: 3.0628e-04\n",
            "Epoch 119/200\n",
            "82/82 [==============================] - 1s 10ms/step - loss: 3.0217e-04\n",
            "Epoch 120/200\n",
            "82/82 [==============================] - 1s 11ms/step - loss: 3.2515e-04\n",
            "Epoch 121/200\n",
            "82/82 [==============================] - 1s 11ms/step - loss: 3.7518e-04\n",
            "Epoch 122/200\n",
            "82/82 [==============================] - 1s 11ms/step - loss: 2.7600e-04\n",
            "Epoch 123/200\n",
            "82/82 [==============================] - 1s 11ms/step - loss: 2.9376e-04\n",
            "Epoch 124/200\n",
            "82/82 [==============================] - 1s 11ms/step - loss: 2.7593e-04\n",
            "Epoch 125/200\n",
            "82/82 [==============================] - 1s 11ms/step - loss: 2.6308e-04\n",
            "Epoch 126/200\n",
            "82/82 [==============================] - 1s 11ms/step - loss: 2.8926e-04\n",
            "Epoch 127/200\n",
            "82/82 [==============================] - 1s 11ms/step - loss: 2.8656e-04\n",
            "Epoch 128/200\n",
            "82/82 [==============================] - 1s 10ms/step - loss: 3.5642e-04\n",
            "Epoch 129/200\n",
            "82/82 [==============================] - 1s 10ms/step - loss: 3.0375e-04\n",
            "Epoch 130/200\n",
            "82/82 [==============================] - 1s 10ms/step - loss: 2.6599e-04\n",
            "Epoch 131/200\n",
            "82/82 [==============================] - 1s 11ms/step - loss: 2.6325e-04\n",
            "Epoch 132/200\n",
            "82/82 [==============================] - 1s 11ms/step - loss: 2.6927e-04\n",
            "Epoch 133/200\n",
            "82/82 [==============================] - 1s 11ms/step - loss: 3.1191e-04\n",
            "Epoch 134/200\n",
            "82/82 [==============================] - 1s 11ms/step - loss: 2.8404e-04\n",
            "Epoch 135/200\n",
            "82/82 [==============================] - 1s 11ms/step - loss: 2.5007e-04\n",
            "Epoch 136/200\n",
            "82/82 [==============================] - 1s 11ms/step - loss: 2.5653e-04\n",
            "Epoch 137/200\n",
            "82/82 [==============================] - 1s 11ms/step - loss: 3.1077e-04\n",
            "Epoch 138/200\n",
            "82/82 [==============================] - 1s 11ms/step - loss: 2.4936e-04\n",
            "Epoch 139/200\n",
            "82/82 [==============================] - 1s 11ms/step - loss: 2.7450e-04\n",
            "Epoch 140/200\n",
            "82/82 [==============================] - 1s 11ms/step - loss: 2.9011e-04\n",
            "Epoch 141/200\n",
            "82/82 [==============================] - 1s 11ms/step - loss: 2.7846e-04\n",
            "Epoch 142/200\n",
            "82/82 [==============================] - 1s 11ms/step - loss: 2.5334e-04\n",
            "Epoch 143/200\n",
            "82/82 [==============================] - 1s 10ms/step - loss: 2.7823e-04\n",
            "Epoch 144/200\n",
            "82/82 [==============================] - 1s 11ms/step - loss: 2.9297e-04\n",
            "Epoch 145/200\n",
            "82/82 [==============================] - 1s 11ms/step - loss: 2.5370e-04\n",
            "Epoch 146/200\n",
            "82/82 [==============================] - 1s 11ms/step - loss: 2.7063e-04\n",
            "Epoch 147/200\n",
            "82/82 [==============================] - 1s 11ms/step - loss: 2.3457e-04\n",
            "Epoch 148/200\n",
            "82/82 [==============================] - 1s 10ms/step - loss: 2.3759e-04\n",
            "Epoch 149/200\n",
            "82/82 [==============================] - 1s 10ms/step - loss: 2.7517e-04\n",
            "Epoch 150/200\n",
            "82/82 [==============================] - 1s 11ms/step - loss: 2.4465e-04\n",
            "Epoch 151/200\n",
            "82/82 [==============================] - 1s 11ms/step - loss: 2.9061e-04\n",
            "Epoch 152/200\n",
            "82/82 [==============================] - 1s 11ms/step - loss: 2.3076e-04\n",
            "Epoch 153/200\n",
            "82/82 [==============================] - 1s 10ms/step - loss: 3.2809e-04\n",
            "Epoch 154/200\n",
            "82/82 [==============================] - 1s 11ms/step - loss: 3.2748e-04\n",
            "Epoch 155/200\n",
            "82/82 [==============================] - 1s 11ms/step - loss: 2.8082e-04\n",
            "Epoch 156/200\n",
            "82/82 [==============================] - 1s 11ms/step - loss: 2.5911e-04\n",
            "Epoch 157/200\n",
            "82/82 [==============================] - 1s 11ms/step - loss: 2.3670e-04\n",
            "Epoch 158/200\n",
            "82/82 [==============================] - 1s 11ms/step - loss: 2.4443e-04\n",
            "Epoch 159/200\n",
            "82/82 [==============================] - 1s 11ms/step - loss: 2.3668e-04\n",
            "Epoch 160/200\n",
            "82/82 [==============================] - 1s 11ms/step - loss: 3.2655e-04\n",
            "Epoch 161/200\n",
            "82/82 [==============================] - 1s 10ms/step - loss: 2.6263e-04\n",
            "Epoch 162/200\n",
            "82/82 [==============================] - 1s 11ms/step - loss: 2.6088e-04\n",
            "Epoch 163/200\n",
            "82/82 [==============================] - 1s 10ms/step - loss: 2.6437e-04\n",
            "Epoch 164/200\n",
            "82/82 [==============================] - 1s 11ms/step - loss: 2.7072e-04\n",
            "Epoch 165/200\n",
            "82/82 [==============================] - 1s 11ms/step - loss: 2.5529e-04\n",
            "Epoch 166/200\n",
            "82/82 [==============================] - 1s 11ms/step - loss: 2.1927e-04\n",
            "Epoch 167/200\n",
            "82/82 [==============================] - 1s 10ms/step - loss: 2.3494e-04\n",
            "Epoch 168/200\n",
            "82/82 [==============================] - 1s 11ms/step - loss: 2.5405e-04\n",
            "Epoch 169/200\n",
            "82/82 [==============================] - 1s 11ms/step - loss: 2.6596e-04\n",
            "Epoch 170/200\n",
            "82/82 [==============================] - 1s 10ms/step - loss: 2.6523e-04\n",
            "Epoch 171/200\n",
            "82/82 [==============================] - 1s 11ms/step - loss: 2.6111e-04\n",
            "Epoch 172/200\n",
            "82/82 [==============================] - 1s 11ms/step - loss: 2.7065e-04\n",
            "Epoch 173/200\n",
            "82/82 [==============================] - 1s 11ms/step - loss: 2.3962e-04\n",
            "Epoch 174/200\n",
            "82/82 [==============================] - 1s 11ms/step - loss: 2.3275e-04\n",
            "Epoch 175/200\n",
            "82/82 [==============================] - 1s 11ms/step - loss: 2.2010e-04\n",
            "Epoch 176/200\n",
            "82/82 [==============================] - 1s 11ms/step - loss: 2.4223e-04\n",
            "Epoch 177/200\n",
            "82/82 [==============================] - 1s 11ms/step - loss: 2.5506e-04\n",
            "Epoch 178/200\n",
            "82/82 [==============================] - 1s 11ms/step - loss: 2.7340e-04\n",
            "Epoch 179/200\n",
            "82/82 [==============================] - 1s 11ms/step - loss: 2.6036e-04\n",
            "Epoch 180/200\n",
            "82/82 [==============================] - 1s 11ms/step - loss: 2.4747e-04\n",
            "Epoch 181/200\n",
            "82/82 [==============================] - 1s 11ms/step - loss: 2.3630e-04\n",
            "Epoch 182/200\n",
            "82/82 [==============================] - 1s 11ms/step - loss: 2.5535e-04\n",
            "Epoch 183/200\n",
            "82/82 [==============================] - 1s 11ms/step - loss: 2.3383e-04\n",
            "Epoch 184/200\n",
            "82/82 [==============================] - 1s 11ms/step - loss: 2.7218e-04\n",
            "Epoch 185/200\n",
            "82/82 [==============================] - 1s 11ms/step - loss: 2.3149e-04\n",
            "Epoch 186/200\n",
            "82/82 [==============================] - 1s 11ms/step - loss: 2.8717e-04\n",
            "Epoch 187/200\n",
            "82/82 [==============================] - 1s 11ms/step - loss: 3.3177e-04\n",
            "Epoch 188/200\n",
            "82/82 [==============================] - 1s 11ms/step - loss: 2.1173e-04\n",
            "Epoch 189/200\n",
            "82/82 [==============================] - 1s 11ms/step - loss: 2.5064e-04\n",
            "Epoch 190/200\n",
            "82/82 [==============================] - 1s 11ms/step - loss: 2.5735e-04\n",
            "Epoch 191/200\n",
            "82/82 [==============================] - 1s 11ms/step - loss: 2.3798e-04\n",
            "Epoch 192/200\n",
            "82/82 [==============================] - 1s 11ms/step - loss: 2.3295e-04\n",
            "Epoch 193/200\n",
            "82/82 [==============================] - 1s 11ms/step - loss: 2.5091e-04\n",
            "Epoch 194/200\n",
            "82/82 [==============================] - 1s 11ms/step - loss: 3.2506e-04\n",
            "Epoch 195/200\n",
            "82/82 [==============================] - 1s 11ms/step - loss: 2.4091e-04\n",
            "Epoch 196/200\n",
            "82/82 [==============================] - 1s 11ms/step - loss: 2.5054e-04\n",
            "Epoch 197/200\n",
            "82/82 [==============================] - 1s 11ms/step - loss: 2.7120e-04\n",
            "Epoch 198/200\n",
            "82/82 [==============================] - 1s 11ms/step - loss: 2.4525e-04\n",
            "Epoch 199/200\n",
            "82/82 [==============================] - 1s 11ms/step - loss: 3.4812e-04\n",
            "Epoch 200/200\n",
            "82/82 [==============================] - 1s 11ms/step - loss: 2.5702e-04\n"
          ],
          "name": "stdout"
        },
        {
          "output_type": "execute_result",
          "data": {
            "text/plain": [
              "<tensorflow.python.keras.callbacks.History at 0x7f56e5437ad0>"
            ]
          },
          "metadata": {
            "tags": []
          },
          "execution_count": 109
        }
      ]
    },
    {
      "cell_type": "code",
      "metadata": {
        "colab": {
          "base_uri": "https://localhost:8080/"
        },
        "id": "ZDklMFl2mMTj",
        "outputId": "b01e636c-b4f3-4191-b3fc-fd370d91c996"
      },
      "source": [
        "real_val = df_close['2020-01-01':]\n",
        "real_val\n",
        "df_i_r = real_val.index\n",
        "df_i_r"
      ],
      "execution_count": 110,
      "outputs": [
        {
          "output_type": "execute_result",
          "data": {
            "text/plain": [
              "DatetimeIndex(['2020-01-02', '2020-01-03', '2020-01-06', '2020-01-07',\n",
              "               '2020-01-08', '2020-01-09', '2020-01-10', '2020-01-13',\n",
              "               '2020-01-14', '2020-01-15',\n",
              "               ...\n",
              "               '2020-12-17', '2020-12-18', '2020-12-21', '2020-12-22',\n",
              "               '2020-12-23', '2020-12-24', '2020-12-28', '2020-12-29',\n",
              "               '2020-12-30', '2020-12-31'],\n",
              "              dtype='datetime64[ns]', name='Date', length=253, freq=None)"
            ]
          },
          "metadata": {
            "tags": []
          },
          "execution_count": 110
        }
      ]
    },
    {
      "cell_type": "code",
      "metadata": {
        "id": "trvIo9slmvJ6"
      },
      "source": [
        "pred = []\n",
        "for i in range (df_train.shape[0] , df_total.shape[0]):\n",
        "  test = []\n",
        "  test.append(df_total[i-60:i])\n",
        "  X_test = np.array(test)\n",
        "  X_test = np.reshape(X_test, (X_test.shape[0], X_test.shape[1], 1))\n",
        "  pre = model.predict(X_test)\n",
        "  pred.append(pre[0])\n",
        "  df_total[i] = pre[0][0]\n",
        "\n"
      ],
      "execution_count": 111,
      "outputs": []
    },
    {
      "cell_type": "code",
      "metadata": {
        "colab": {
          "base_uri": "https://localhost:8080/",
          "height": 419
        },
        "id": "ZoQS9b_K3oGf",
        "outputId": "52769b95-41d0-43b2-ce56-f2ad04963cb9"
      },
      "source": [
        "pred = pd.DataFrame(pred)\n",
        "pred = scaler.inverse_transform(pred)\n",
        "pred = pd.DataFrame(pred)\n",
        "real_val.reset_index()\n"
      ],
      "execution_count": 112,
      "outputs": [
        {
          "output_type": "execute_result",
          "data": {
            "text/html": [
              "<div>\n",
              "<style scoped>\n",
              "    .dataframe tbody tr th:only-of-type {\n",
              "        vertical-align: middle;\n",
              "    }\n",
              "\n",
              "    .dataframe tbody tr th {\n",
              "        vertical-align: top;\n",
              "    }\n",
              "\n",
              "    .dataframe thead th {\n",
              "        text-align: right;\n",
              "    }\n",
              "</style>\n",
              "<table border=\"1\" class=\"dataframe\">\n",
              "  <thead>\n",
              "    <tr style=\"text-align: right;\">\n",
              "      <th></th>\n",
              "      <th>Date</th>\n",
              "      <th>Close</th>\n",
              "    </tr>\n",
              "  </thead>\n",
              "  <tbody>\n",
              "    <tr>\n",
              "      <th>0</th>\n",
              "      <td>2020-01-02</td>\n",
              "      <td>35.64</td>\n",
              "    </tr>\n",
              "    <tr>\n",
              "      <th>1</th>\n",
              "      <td>2020-01-03</td>\n",
              "      <td>34.90</td>\n",
              "    </tr>\n",
              "    <tr>\n",
              "      <th>2</th>\n",
              "      <td>2020-01-06</td>\n",
              "      <td>34.85</td>\n",
              "    </tr>\n",
              "    <tr>\n",
              "      <th>3</th>\n",
              "      <td>2020-01-07</td>\n",
              "      <td>34.62</td>\n",
              "    </tr>\n",
              "    <tr>\n",
              "      <th>4</th>\n",
              "      <td>2020-01-08</td>\n",
              "      <td>34.97</td>\n",
              "    </tr>\n",
              "    <tr>\n",
              "      <th>...</th>\n",
              "      <td>...</td>\n",
              "      <td>...</td>\n",
              "    </tr>\n",
              "    <tr>\n",
              "      <th>248</th>\n",
              "      <td>2020-12-24</td>\n",
              "      <td>29.96</td>\n",
              "    </tr>\n",
              "    <tr>\n",
              "      <th>249</th>\n",
              "      <td>2020-12-28</td>\n",
              "      <td>30.13</td>\n",
              "    </tr>\n",
              "    <tr>\n",
              "      <th>250</th>\n",
              "      <td>2020-12-29</td>\n",
              "      <td>30.01</td>\n",
              "    </tr>\n",
              "    <tr>\n",
              "      <th>251</th>\n",
              "      <td>2020-12-30</td>\n",
              "      <td>29.98</td>\n",
              "    </tr>\n",
              "    <tr>\n",
              "      <th>252</th>\n",
              "      <td>2020-12-31</td>\n",
              "      <td>30.31</td>\n",
              "    </tr>\n",
              "  </tbody>\n",
              "</table>\n",
              "<p>253 rows × 2 columns</p>\n",
              "</div>"
            ],
            "text/plain": [
              "          Date  Close\n",
              "0   2020-01-02  35.64\n",
              "1   2020-01-03  34.90\n",
              "2   2020-01-06  34.85\n",
              "3   2020-01-07  34.62\n",
              "4   2020-01-08  34.97\n",
              "..         ...    ...\n",
              "248 2020-12-24  29.96\n",
              "249 2020-12-28  30.13\n",
              "250 2020-12-29  30.01\n",
              "251 2020-12-30  29.98\n",
              "252 2020-12-31  30.31\n",
              "\n",
              "[253 rows x 2 columns]"
            ]
          },
          "metadata": {
            "tags": []
          },
          "execution_count": 112
        }
      ]
    },
    {
      "cell_type": "code",
      "metadata": {
        "colab": {
          "base_uri": "https://localhost:8080/",
          "height": 282
        },
        "id": "epGEoFev6ejC",
        "outputId": "2b0fac83-a43f-4fc6-d6ed-962f699d427c"
      },
      "source": [
        "pred['date'] = pd.to_datetime(df_i_r)\n",
        "pred.set_index('date', inplace=True)\n",
        "plt.plot(real_val , color = 'red')\n",
        "plt.plot(pred , color= 'green')"
      ],
      "execution_count": 113,
      "outputs": [
        {
          "output_type": "execute_result",
          "data": {
            "text/plain": [
              "[<matplotlib.lines.Line2D at 0x7f56ee09e290>]"
            ]
          },
          "metadata": {
            "tags": []
          },
          "execution_count": 113
        },
        {
          "output_type": "display_data",
          "data": {
            "image/png": "[encoded data removed]",
            "text/plain": [
              "<Figure size 432x288 with 1 Axes>"
            ]
          },
          "metadata": {
            "tags": [],
            "needs_background": "light"
          }
        }
      ]
    }
  ]
}